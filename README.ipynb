{
 "cells": [
  {
   "cell_type": "code",
   "execution_count": 1,
   "metadata": {},
   "outputs": [
    {
     "data": {
      "text/markdown": [
       "# Fluid-Mechanics-Intro\n",
       "\n",
       "This repo contains \n",
       "notebooks that come in support of my introductory course on fluid mechanics, for bachelor students.\n",
       "\n",
       "## Working through binder\n",
       "\n",
       "Notebooks are available through binder: [![Binder](https://mybinder.org/badge_logo.svg)](https://mybinder.org/v2/gh/ecosme38/Fluid-Mechanics-Intro/master)\n",
       "\n",
       "## Working in your own jupyterlab\n",
       "\n",
       "Two notebooks are available at present to illustrate:\n",
       "\n",
       "- [Fields and operators](1-fields-and-operators.ipynb)  \n",
       "A pratical introduction to 2-dimensional fields and basic operators such as gradient, divergence, etc\n",
       "- [Advection of a tracer](2-tracer-advection.ipynb)  \n",
       "An introduction to the tracer advection equations, in both Lagrangian and Eulerian formulations, with explicit illustrations of results to emphasize the difference."
      ],
      "text/plain": [
       "<IPython.core.display.Markdown object>"
      ]
     },
     "metadata": {},
     "output_type": "display_data"
    }
   ],
   "source": [
    "from IPython.display import display,Markdown\n",
    "display(Markdown(open('README.md', 'r').read()))"
   ]
  }
 ],
 "metadata": {
  "kernelspec": {
   "display_name": "Python 3",
   "language": "python",
   "name": "python3"
  },
  "language_info": {
   "codemirror_mode": {
    "name": "ipython",
    "version": 3
   },
   "file_extension": ".py",
   "mimetype": "text/x-python",
   "name": "python",
   "nbconvert_exporter": "python",
   "pygments_lexer": "ipython3",
   "version": "3.10.9"
  }
 },
 "nbformat": 4,
 "nbformat_minor": 2
}
